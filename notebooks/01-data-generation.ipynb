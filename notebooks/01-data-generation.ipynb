{
 "cells": [
  {
   "cell_type": "code",
   "execution_count": 1,
   "id": "bfd61063-46cf-4dca-bdac-24c7d3edd005",
   "metadata": {},
   "outputs": [
    {
     "name": "stderr",
     "output_type": "stream",
     "text": [
      "WARNING (pytensor.configdefaults): g++ not available, if using conda: `conda install gxx`\n",
      "WARNING (pytensor.configdefaults): g++ not detected!  PyTensor will be unable to compile C-implementations and will default to Python. Performance may be severely degraded. To remove this warning, set PyTensor flags cxx to an empty string.\n"
     ]
    }
   ],
   "source": [
    "import numpy as np\n",
    "import pandas as pd\n",
    "import pymc as pm\n",
    "import matplotlib.pyplot as plt\n",
    "import statsmodels.api as sm\n",
    "from statsmodels.tsa.seasonal import seasonal_decompose\n",
    "import pytensor.tensor as at\n",
    "from pytensor import scan\n",
    "import pytensor.tensor as at\n",
    "import pytensor.tensor.signal.conv as conv\n",
    "import sys\n",
    "\n",
    "sys.path.append(\"../src\")\n",
    "# Self Built Functions that have been unit tested\n",
    "from mmm.make_synthetic_panel import make_synthetic_panel\n",
    "from mmm.transformations_datagen import adstock, hill_saturation"
   ]
  },
  {
   "cell_type": "code",
   "execution_count": 2,
   "id": "f2932409-708d-4d6a-879a-4b2d7d40e5d1",
   "metadata": {},
   "outputs": [
    {
     "name": "stdout",
     "output_type": "stream",
     "text": [
      "   product_id  week     spend_tv  spend_search  spend_social       price  \\\n",
      "0           0     0  3055.799898   3837.292726   1254.840425  102.355681   \n",
      "1           0     1  6556.609921   2702.957448   1409.977856   97.332738   \n",
      "2           0     2  7549.901027   2603.597554    904.511228   97.941808   \n",
      "3           0     3  3045.632463   3212.222484    731.694374  106.813213   \n",
      "4           0     4  2886.613051   3074.148164   2102.967174   94.797070   \n",
      "\n",
      "    gdp_index     kpi_sales  \n",
      "0   97.719678  17455.455922  \n",
      "1   97.860928  24731.016081  \n",
      "2  101.095627  25411.874435  \n",
      "3  100.416549  25003.573373  \n",
      "4  101.497478  32265.064079  \n",
      "Negative KPI values: 0\n"
     ]
    }
   ],
   "source": [
    "panel = make_synthetic_panel(n_products=5, n_weeks=104, seed=42)\n",
    "print(panel.head())\n",
    "print(\"Negative KPI values:\", (panel['kpi_sales'] < 0).sum())"
   ]
  },
  {
   "cell_type": "code",
   "execution_count": null,
   "id": "49b64d80-9ee8-4348-b451-2067a7566096",
   "metadata": {},
   "outputs": [],
   "source": []
  }
 ],
 "metadata": {
  "kernelspec": {
   "display_name": "Python (mmm-env)",
   "language": "python",
   "name": "mmm-env"
  },
  "language_info": {
   "codemirror_mode": {
    "name": "ipython",
    "version": 3
   },
   "file_extension": ".py",
   "mimetype": "text/x-python",
   "name": "python",
   "nbconvert_exporter": "python",
   "pygments_lexer": "ipython3",
   "version": "3.11.0"
  }
 },
 "nbformat": 4,
 "nbformat_minor": 5
}
